{
 "cells": [
  {
   "cell_type": "markdown",
   "metadata": {},
   "source": [
    "This training script was adapted from https://github.com/rishab-sharma/cnn-hand-written-digit/blob/master/train.py"
   ]
  },
  {
   "cell_type": "markdown",
   "metadata": {},
   "source": [
    "# 1. Declare Imports"
   ]
  },
  {
   "cell_type": "code",
   "execution_count": 1,
   "metadata": {},
   "outputs": [
    {
     "name": "stderr",
     "output_type": "stream",
     "text": [
      "Using TensorFlow backend.\n"
     ]
    },
    {
     "ename": "RuntimeError",
     "evalue": "module compiled against API version 0xb but this version of numpy is 0xa",
     "output_type": "error",
     "traceback": [
      "\u001b[1;31m---------------------------------------------------------------------------\u001b[0m",
      "\u001b[1;31mRuntimeError\u001b[0m                              Traceback (most recent call last)",
      "\u001b[1;31mRuntimeError\u001b[0m: module compiled against API version 0xb but this version of numpy is 0xa"
     ]
    }
   ],
   "source": [
    "import keras as k\n",
    "import numpy as np\n",
    "import matplotlib.pyplot as plt\n",
    "plt.rcParams['figure.figsize'] = (16.0,8.0) # Make the figures a bit larger"
   ]
  },
  {
   "cell_type": "markdown",
   "metadata": {},
   "source": [
    "# 2. Declare Variables"
   ]
  },
  {
   "cell_type": "code",
   "execution_count": 2,
   "metadata": {},
   "outputs": [],
   "source": [
    "# 2. Declare Variables\n",
    "batch_size = 128\n",
    "# 10 classes represent the numbers 1-9\n",
    "num_classes = 10\n",
    "# 12 epochs for training - very short time\n",
    "epochs = 12\n",
    "# image dimensions are 28 x 28 pixels\n",
    "img_rows, img_cols = 28, 28"
   ]
  },
  {
   "cell_type": "markdown",
   "metadata": {},
   "source": [
    "# 3. LOAD DATA"
   ]
  },
  {
   "cell_type": "code",
   "execution_count": 3,
   "metadata": {},
   "outputs": [],
   "source": [
    "''' Very easy using keras as mnist is built in\n",
    "    Split data into taining and test sets\n",
    "'''\n",
    "(x_train, y_train), (x_test, y_test) = k.datasets.mnist.load_data()"
   ]
  },
  {
   "cell_type": "code",
   "execution_count": 4,
   "metadata": {},
   "outputs": [],
   "source": [
    "# https://keras.io/backend/\n",
    "# For 3D data:\n",
    "# Channels_first assumes (channels, conv_dim1, conv_dim2, conv_dim3).\n",
    "if k.backend.image_data_format() == 'channels_first':\n",
    "    x_train = x_train.reshape(x_train.shape[0], 1, img_rows, img_cols)\n",
    "    x_test = x_test.reshape(x_test.shape[0], 1, img_rows, img_cols)\n",
    "    input_shape = (1, img_rows, img_cols)\n",
    "else:\n",
    "    # Otherwise we assume its channels_last and uses (conv_dim1, conv_dim2, conv_dim3, channels)\n",
    "    x_train = x_train.reshape(x_train.shape[0], img_rows, img_cols, 1)\n",
    "    x_test = x_test.reshape(x_test.shape[0], img_rows, img_cols, 1)\n",
    "    input_shape = (img_rows, img_cols, 1)"
   ]
  },
  {
   "cell_type": "code",
   "execution_count": 5,
   "metadata": {},
   "outputs": [
    {
     "name": "stdout",
     "output_type": "stream",
     "text": [
      "Length of x_train: <class 'numpy.ndarray'>\n",
      "Length of x_train: 60000\n",
      "10000 10000\n",
      "[5 0 4 1 9 2 1 3 1 4 3 5 3 6 1 7 2 8 6 9]\n"
     ]
    }
   ],
   "source": [
    "# Lets test some of the data\n",
    "print(\"Length of x_train: %s\" % type(x_train)) # a numpy matrix perfect for keras\n",
    "print(\"Length of x_train: %d\" % len(x_train)) # 60000\n",
    "print(len(x_test), len(y_test)) # 10000, 10000\n",
    "print(y_train[0:20]) # The first 20 classes in y_train"
   ]
  },
  {
   "cell_type": "markdown",
   "metadata": {},
   "source": [
    "# 4. FORMAT THE DATA FOR TRAINING"
   ]
  },
  {
   "cell_type": "code",
   "execution_count": 6,
   "metadata": {},
   "outputs": [
    {
     "name": "stdout",
     "output_type": "stream",
     "text": [
      "x_train shape: (60000, 28, 28, 1)\n",
      "60000 train samples\n",
      "10000 test samples\n"
     ]
    }
   ],
   "source": [
    "# Scale the inputs to be in the range [0-1] rather than [0-255]\n",
    "x_train = x_train.astype('float32')\n",
    "x_test = x_test.astype('float32')\n",
    "x_train /= 255\n",
    "x_test /= 255\n",
    "print('x_train shape:', x_train.shape)\n",
    "print(x_train.shape[0], 'train samples')\n",
    "print(x_test.shape[0], 'test samples')"
   ]
  },
  {
   "cell_type": "markdown",
   "metadata": {},
   "source": [
    "# 5. CONVERT THE MATRICES INTO ONE HOT FORMAT"
   ]
  },
  {
   "cell_type": "code",
   "execution_count": 7,
   "metadata": {},
   "outputs": [
    {
     "name": "stdout",
     "output_type": "stream",
     "text": [
      "First 10 Elements in y_train:\n",
      "[[ 0.  0.  0.  0.  0.  1.  0.  0.  0.  0.]\n",
      " [ 1.  0.  0.  0.  0.  0.  0.  0.  0.  0.]\n",
      " [ 0.  0.  0.  0.  1.  0.  0.  0.  0.  0.]\n",
      " [ 0.  1.  0.  0.  0.  0.  0.  0.  0.  0.]\n",
      " [ 0.  0.  0.  0.  0.  0.  0.  0.  0.  1.]\n",
      " [ 0.  0.  1.  0.  0.  0.  0.  0.  0.  0.]\n",
      " [ 0.  1.  0.  0.  0.  0.  0.  0.  0.  0.]\n",
      " [ 0.  0.  0.  1.  0.  0.  0.  0.  0.  0.]\n",
      " [ 0.  1.  0.  0.  0.  0.  0.  0.  0.  0.]\n",
      " [ 0.  0.  0.  0.  1.  0.  0.  0.  0.  0.]]\n"
     ]
    }
   ],
   "source": [
    "'''\n",
    "https://keras.io/utils/\n",
    "Using .to_categorical Converts a class vector (integers) to binary class matrix.\n",
    "Keras.utils.to_categorical(y, num_classes=None)\n",
    "'''\n",
    "y_train = k.utils.to_categorical(y_train, num_classes)\n",
    "y_test = k.utils.to_categorical(y_test, num_classes)\n",
    "\n",
    "# Print the first 10 elements of y_train\n",
    "print(\"First 10 Elements in y_train:\")\n",
    "print(y_train[0:10])"
   ]
  },
  {
   "cell_type": "markdown",
   "metadata": {},
   "source": [
    "# 6. BUILD THE NEURAL NETWORK"
   ]
  },
  {
   "cell_type": "code",
   "execution_count": 8,
   "metadata": {},
   "outputs": [],
   "source": [
    "model = k.models.Sequential()\n",
    "# This layer creates a convolution kernel that is coiled with the layer input \n",
    "# over a single spatial (or temporal) dimension to produce a tensor of outputs.\n",
    "# https://keras.io/layers/convolutional/\n",
    "model.add(k.layers.Conv2D(32, kernel_size=(3, 3), activation='relu', input_shape=input_shape))\n",
    "# Add another Convolutional layer\n",
    "model.add(k.layers.Conv2D(64, (3, 3), activation='relu'))\n",
    "# Max pooling operation for spatial data.\n",
    "model.add(k.layers.MaxPooling2D(pool_size=(2, 2)))\n",
    "# Randomly turn neurons on and off to improve convergence\n",
    "model.add(k.layers.Dropout(0.25))\n",
    "# Flattens the input without effecting the batch size. https://keras.io/layers/core/#flatten\n",
    "model.add(k.layers.Flatten())\n",
    "# Just a regular densely-connected NN layer. https://keras.io/layers/core/\n",
    "model.add(k.layers.Dense(128, activation='relu'))\n",
    "# Add another dropout\n",
    "model.add(k.layers.Dropout(0.5))\n",
    "# Add the softmax activation function to the final layer\n",
    "model.add(k.layers.Dense(num_classes, activation='softmax'))"
   ]
  },
  {
   "cell_type": "markdown",
   "metadata": {},
   "source": [
    "# 7. COMPILE THE MODEL"
   ]
  },
  {
   "cell_type": "code",
   "execution_count": 9,
   "metadata": {},
   "outputs": [],
   "source": [
    "model.compile(loss=k.losses.categorical_crossentropy, optimizer=k.optimizers.Adadelta(), metrics=['accuracy'])"
   ]
  },
  {
   "cell_type": "markdown",
   "metadata": {},
   "source": [
    "# 8. FIT THE MODEL"
   ]
  },
  {
   "cell_type": "code",
   "execution_count": 10,
   "metadata": {},
   "outputs": [
    {
     "name": "stdout",
     "output_type": "stream",
     "text": [
      "Train on 60000 samples, validate on 10000 samples\n",
      "Epoch 1/12\n",
      "60000/60000 [==============================] - 136s 2ms/step - loss: 0.3326 - acc: 0.8979 - val_loss: 0.0764 - val_acc: 0.9759\n",
      "Epoch 2/12\n",
      "60000/60000 [==============================] - 131s 2ms/step - loss: 0.1132 - acc: 0.9667 - val_loss: 0.0568 - val_acc: 0.9815\n",
      "Epoch 3/12\n",
      "60000/60000 [==============================] - 133s 2ms/step - loss: 0.0877 - acc: 0.9740 - val_loss: 0.0441 - val_acc: 0.9854\n",
      "Epoch 4/12\n",
      "60000/60000 [==============================] - 133s 2ms/step - loss: 0.0719 - acc: 0.9788 - val_loss: 0.0383 - val_acc: 0.9870\n",
      "Epoch 5/12\n",
      "60000/60000 [==============================] - 134s 2ms/step - loss: 0.0636 - acc: 0.9810 - val_loss: 0.0344 - val_acc: 0.9885\n",
      "Epoch 6/12\n",
      "60000/60000 [==============================] - 135s 2ms/step - loss: 0.0572 - acc: 0.9836 - val_loss: 0.0337 - val_acc: 0.9885\n",
      "Epoch 7/12\n",
      "60000/60000 [==============================] - 132s 2ms/step - loss: 0.0520 - acc: 0.9847 - val_loss: 0.0310 - val_acc: 0.9895\n",
      "Epoch 8/12\n",
      "60000/60000 [==============================] - 131s 2ms/step - loss: 0.0487 - acc: 0.9856 - val_loss: 0.0314 - val_acc: 0.9902\n",
      "Epoch 9/12\n",
      "60000/60000 [==============================] - 133s 2ms/step - loss: 0.0441 - acc: 0.9869 - val_loss: 0.0281 - val_acc: 0.9909\n",
      "Epoch 10/12\n",
      "60000/60000 [==============================] - 136s 2ms/step - loss: 0.0412 - acc: 0.9876 - val_loss: 0.0267 - val_acc: 0.9922\n",
      "Epoch 11/12\n",
      "60000/60000 [==============================] - 142s 2ms/step - loss: 0.0394 - acc: 0.9883 - val_loss: 0.0283 - val_acc: 0.9914\n",
      "Epoch 12/12\n",
      "60000/60000 [==============================] - 139s 2ms/step - loss: 0.0384 - acc: 0.9887 - val_loss: 0.0267 - val_acc: 0.9911\n"
     ]
    }
   ],
   "source": [
    "history = model.fit(x_train, y_train, batch_size=batch_size, epochs=epochs, verbose=1, validation_data=(x_test, y_test))"
   ]
  },
  {
   "cell_type": "markdown",
   "metadata": {},
   "source": [
    "# 9. How well did it do? "
   ]
  },
  {
   "cell_type": "code",
   "execution_count": 11,
   "metadata": {},
   "outputs": [
    {
     "name": "stdout",
     "output_type": "stream",
     "text": [
      "Test loss: 0.0267146403608\n",
      "Test accuracy: 0.9911\n",
      "10000/10000 [==============================] - 6s 599us/step\n",
      "Number of false predictions = 1 (out of 10000 samples)\n"
     ]
    },
    {
     "name": "stderr",
     "output_type": "stream",
     "text": [
      "c:\\users\\patrick\\anaconda3\\envs\\tensorflow\\lib\\site-packages\\ipykernel_launcher.py:11: DeprecationWarning: elementwise == comparison failed; this will raise an error in the future.\n",
      "  # This is added back by InteractiveShellApp.init_path()\n",
      "c:\\users\\patrick\\anaconda3\\envs\\tensorflow\\lib\\site-packages\\ipykernel_launcher.py:12: DeprecationWarning: elementwise != comparison failed; this will raise an error in the future.\n",
      "  if sys.path[0] == '':\n"
     ]
    }
   ],
   "source": [
    "score = model.evaluate(x_test, y_test, verbose=0)\n",
    "\n",
    "print('Test loss:', score[0])\n",
    "print('Test accuracy:', score[1])\n",
    "\n",
    "# The predict_classes function outputs the highest probability class\n",
    "# according to the trained classifier for each input example.\n",
    "y_pred = model.predict_classes(x_test)\n",
    "\n",
    "# How many did we get wrong?!\n",
    "true_indices = np.nonzero(y_pred == y_test)[0]\n",
    "false_indices = np.nonzero(y_pred != y_test)[0]\n",
    "print(\"Number of false predictions = %d (out of %d samples)\" % (len(false_indices), len(y_test)))"
   ]
  },
  {
   "cell_type": "code",
   "execution_count": 17,
   "metadata": {},
   "outputs": [
    {
     "data": {
      "image/png": "[encoded data removed]",
      "text/plain": [
       "<matplotlib.figure.Figure at 0x2a228186eb8>"
      ]
     },
     "metadata": {},
     "output_type": "display_data"
    }
   ],
   "source": [
    "# Summarize History for Accuracy\n",
    "plt.plot(history.history['acc'])  \n",
    "plt.plot(history.history['val_acc'])  \n",
    "plt.title('Model Accuracy')  \n",
    "plt.ylabel('Accuracy %')  \n",
    "plt.xlabel('Epochs')  \n",
    "plt.legend(['train', 'test'], loc='lower right', fontsize=25)\n",
    "plt.show()"
   ]
  },
  {
   "cell_type": "code",
   "execution_count": 18,
   "metadata": {},
   "outputs": [
    {
     "data": {
      "image/png": "[encoded data removed]",
      "text/plain": [
       "<matplotlib.figure.Figure at 0x2a22805f7f0>"
      ]
     },
     "metadata": {},
     "output_type": "display_data"
    }
   ],
   "source": [
    "# Summarize history for loss     \n",
    "plt.plot(history.history['loss'])  \n",
    "plt.plot(history.history['val_loss'])  \n",
    "plt.title('model loss')  \n",
    "plt.ylabel('loss')  \n",
    "plt.xlabel('epochs')  \n",
    "plt.legend(['train', 'test'], loc='upper right', fontsize=25)  \n",
    "plt.show()"
   ]
  },
  {
   "cell_type": "markdown",
   "metadata": {},
   "source": [
    "# 10. Save the model to Disk"
   ]
  },
  {
   "cell_type": "code",
   "execution_count": 19,
   "metadata": {},
   "outputs": [
    {
     "name": "stdout",
     "output_type": "stream",
     "text": [
      "MODEL SAVED!\n"
     ]
    }
   ],
   "source": [
    "# 10. Save the model\n",
    "# serialize model to JSON\n",
    "model_json = model.to_json()\n",
    "with open(\"model.json\", \"w\") as json_file:\n",
    "    json_file.write(model_json)\n",
    "# serialize weights to HDF5\n",
    "model.save_weights(\"model.h5\")\n",
    "print(\"MODEL SAVED!\")"
   ]
  }
 ],
 "metadata": {
  "kernelspec": {
   "display_name": "Python 3",
   "language": "python",
   "name": "python3"
  },
  "language_info": {
   "codemirror_mode": {
    "name": "ipython",
    "version": 3
   },
   "file_extension": ".py",
   "mimetype": "text/x-python",
   "name": "python",
   "nbconvert_exporter": "python",
   "pygments_lexer": "ipython3",
   "version": "3.5.4"
  }
 },
 "nbformat": 4,
 "nbformat_minor": 2
}
